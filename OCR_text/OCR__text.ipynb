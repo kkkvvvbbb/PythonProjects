import PIL
from PIL import Image
import pytesseract
image = Image.open("*") #document 
display(image)
